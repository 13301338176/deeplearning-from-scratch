{
 "cells": [
  {
   "cell_type": "markdown",
   "metadata": {},
   "source": [
    "# SGD and variations\n",
    "\n",
    "Here you'll find a numpy implementation of **SGD and extensions (as Momentum, AdaGrad, RMSProp, Adam)** in a syntetic dataset and iris dataset made only for leaning purposes."
   ]
  },
  {
   "cell_type": "markdown",
   "metadata": {},
   "source": [
    "## Dependencies"
   ]
  },
  {
   "cell_type": "code",
   "execution_count": 2,
   "metadata": {},
   "outputs": [
    {
     "ename": "ModuleNotFoundError",
     "evalue": "No module named 'matplotlib'",
     "output_type": "error",
     "traceback": [
      "\u001b[0;31m---------------------------------------------------------------------------\u001b[0m",
      "\u001b[0;31mModuleNotFoundError\u001b[0m                       Traceback (most recent call last)",
      "\u001b[0;32m<ipython-input-2-487dd935845c>\u001b[0m in \u001b[0;36m<module>\u001b[0;34m()\u001b[0m\n\u001b[0;32m----> 1\u001b[0;31m \u001b[0mget_ipython\u001b[0m\u001b[0;34m(\u001b[0m\u001b[0;34m)\u001b[0m\u001b[0;34m.\u001b[0m\u001b[0mrun_line_magic\u001b[0m\u001b[0;34m(\u001b[0m\u001b[0;34m'matplotlib'\u001b[0m\u001b[0;34m,\u001b[0m \u001b[0;34m'inline'\u001b[0m\u001b[0;34m)\u001b[0m\u001b[0;34m\u001b[0m\u001b[0m\n\u001b[0m\u001b[1;32m      2\u001b[0m \u001b[0mget_ipython\u001b[0m\u001b[0;34m(\u001b[0m\u001b[0;34m)\u001b[0m\u001b[0;34m.\u001b[0m\u001b[0mrun_line_magic\u001b[0m\u001b[0;34m(\u001b[0m\u001b[0;34m'matplotlib'\u001b[0m\u001b[0;34m,\u001b[0m \u001b[0;34m'agg'\u001b[0m\u001b[0;34m)\u001b[0m\u001b[0;34m\u001b[0m\u001b[0m\n\u001b[1;32m      3\u001b[0m \u001b[0;34m\u001b[0m\u001b[0m\n\u001b[1;32m      4\u001b[0m \u001b[0;32mimport\u001b[0m \u001b[0mmath\u001b[0m\u001b[0;34m\u001b[0m\u001b[0m\n\u001b[1;32m      5\u001b[0m \u001b[0;34m\u001b[0m\u001b[0m\n",
      "\u001b[0;32m~/.local/lib/python3.6/site-packages/IPython/core/interactiveshell.py\u001b[0m in \u001b[0;36mrun_line_magic\u001b[0;34m(self, magic_name, line, _stack_depth)\u001b[0m\n\u001b[1;32m   2129\u001b[0m                 \u001b[0mkwargs\u001b[0m\u001b[0;34m[\u001b[0m\u001b[0;34m'local_ns'\u001b[0m\u001b[0;34m]\u001b[0m \u001b[0;34m=\u001b[0m \u001b[0msys\u001b[0m\u001b[0;34m.\u001b[0m\u001b[0m_getframe\u001b[0m\u001b[0;34m(\u001b[0m\u001b[0mstack_depth\u001b[0m\u001b[0;34m)\u001b[0m\u001b[0;34m.\u001b[0m\u001b[0mf_locals\u001b[0m\u001b[0;34m\u001b[0m\u001b[0m\n\u001b[1;32m   2130\u001b[0m             \u001b[0;32mwith\u001b[0m \u001b[0mself\u001b[0m\u001b[0;34m.\u001b[0m\u001b[0mbuiltin_trap\u001b[0m\u001b[0;34m:\u001b[0m\u001b[0;34m\u001b[0m\u001b[0m\n\u001b[0;32m-> 2131\u001b[0;31m                 \u001b[0mresult\u001b[0m \u001b[0;34m=\u001b[0m \u001b[0mfn\u001b[0m\u001b[0;34m(\u001b[0m\u001b[0;34m*\u001b[0m\u001b[0margs\u001b[0m\u001b[0;34m,\u001b[0m\u001b[0;34m**\u001b[0m\u001b[0mkwargs\u001b[0m\u001b[0;34m)\u001b[0m\u001b[0;34m\u001b[0m\u001b[0m\n\u001b[0m\u001b[1;32m   2132\u001b[0m             \u001b[0;32mreturn\u001b[0m \u001b[0mresult\u001b[0m\u001b[0;34m\u001b[0m\u001b[0m\n\u001b[1;32m   2133\u001b[0m \u001b[0;34m\u001b[0m\u001b[0m\n",
      "\u001b[0;32m<decorator-gen-107>\u001b[0m in \u001b[0;36mmatplotlib\u001b[0;34m(self, line)\u001b[0m\n",
      "\u001b[0;32m~/.local/lib/python3.6/site-packages/IPython/core/magic.py\u001b[0m in \u001b[0;36m<lambda>\u001b[0;34m(f, *a, **k)\u001b[0m\n\u001b[1;32m    185\u001b[0m     \u001b[0;31m# but it's overkill for just that one bit of state.\u001b[0m\u001b[0;34m\u001b[0m\u001b[0;34m\u001b[0m\u001b[0m\n\u001b[1;32m    186\u001b[0m     \u001b[0;32mdef\u001b[0m \u001b[0mmagic_deco\u001b[0m\u001b[0;34m(\u001b[0m\u001b[0marg\u001b[0m\u001b[0;34m)\u001b[0m\u001b[0;34m:\u001b[0m\u001b[0;34m\u001b[0m\u001b[0m\n\u001b[0;32m--> 187\u001b[0;31m         \u001b[0mcall\u001b[0m \u001b[0;34m=\u001b[0m \u001b[0;32mlambda\u001b[0m \u001b[0mf\u001b[0m\u001b[0;34m,\u001b[0m \u001b[0;34m*\u001b[0m\u001b[0ma\u001b[0m\u001b[0;34m,\u001b[0m \u001b[0;34m**\u001b[0m\u001b[0mk\u001b[0m\u001b[0;34m:\u001b[0m \u001b[0mf\u001b[0m\u001b[0;34m(\u001b[0m\u001b[0;34m*\u001b[0m\u001b[0ma\u001b[0m\u001b[0;34m,\u001b[0m \u001b[0;34m**\u001b[0m\u001b[0mk\u001b[0m\u001b[0;34m)\u001b[0m\u001b[0;34m\u001b[0m\u001b[0m\n\u001b[0m\u001b[1;32m    188\u001b[0m \u001b[0;34m\u001b[0m\u001b[0m\n\u001b[1;32m    189\u001b[0m         \u001b[0;32mif\u001b[0m \u001b[0mcallable\u001b[0m\u001b[0;34m(\u001b[0m\u001b[0marg\u001b[0m\u001b[0;34m)\u001b[0m\u001b[0;34m:\u001b[0m\u001b[0;34m\u001b[0m\u001b[0m\n",
      "\u001b[0;32m~/.local/lib/python3.6/site-packages/IPython/core/magics/pylab.py\u001b[0m in \u001b[0;36mmatplotlib\u001b[0;34m(self, line)\u001b[0m\n\u001b[1;32m     97\u001b[0m             \u001b[0mprint\u001b[0m\u001b[0;34m(\u001b[0m\u001b[0;34m\"Available matplotlib backends: %s\"\u001b[0m \u001b[0;34m%\u001b[0m \u001b[0mbackends_list\u001b[0m\u001b[0;34m)\u001b[0m\u001b[0;34m\u001b[0m\u001b[0m\n\u001b[1;32m     98\u001b[0m         \u001b[0;32melse\u001b[0m\u001b[0;34m:\u001b[0m\u001b[0;34m\u001b[0m\u001b[0m\n\u001b[0;32m---> 99\u001b[0;31m             \u001b[0mgui\u001b[0m\u001b[0;34m,\u001b[0m \u001b[0mbackend\u001b[0m \u001b[0;34m=\u001b[0m \u001b[0mself\u001b[0m\u001b[0;34m.\u001b[0m\u001b[0mshell\u001b[0m\u001b[0;34m.\u001b[0m\u001b[0menable_matplotlib\u001b[0m\u001b[0;34m(\u001b[0m\u001b[0margs\u001b[0m\u001b[0;34m.\u001b[0m\u001b[0mgui\u001b[0m\u001b[0;34m)\u001b[0m\u001b[0;34m\u001b[0m\u001b[0m\n\u001b[0m\u001b[1;32m    100\u001b[0m             \u001b[0mself\u001b[0m\u001b[0;34m.\u001b[0m\u001b[0m_show_matplotlib_backend\u001b[0m\u001b[0;34m(\u001b[0m\u001b[0margs\u001b[0m\u001b[0;34m.\u001b[0m\u001b[0mgui\u001b[0m\u001b[0;34m,\u001b[0m \u001b[0mbackend\u001b[0m\u001b[0;34m)\u001b[0m\u001b[0;34m\u001b[0m\u001b[0m\n\u001b[1;32m    101\u001b[0m \u001b[0;34m\u001b[0m\u001b[0m\n",
      "\u001b[0;32m~/.local/lib/python3.6/site-packages/IPython/core/interactiveshell.py\u001b[0m in \u001b[0;36menable_matplotlib\u001b[0;34m(self, gui)\u001b[0m\n\u001b[1;32m   3037\u001b[0m         \"\"\"\n\u001b[1;32m   3038\u001b[0m         \u001b[0;32mfrom\u001b[0m \u001b[0mIPython\u001b[0m\u001b[0;34m.\u001b[0m\u001b[0mcore\u001b[0m \u001b[0;32mimport\u001b[0m \u001b[0mpylabtools\u001b[0m \u001b[0;32mas\u001b[0m \u001b[0mpt\u001b[0m\u001b[0;34m\u001b[0m\u001b[0m\n\u001b[0;32m-> 3039\u001b[0;31m         \u001b[0mgui\u001b[0m\u001b[0;34m,\u001b[0m \u001b[0mbackend\u001b[0m \u001b[0;34m=\u001b[0m \u001b[0mpt\u001b[0m\u001b[0;34m.\u001b[0m\u001b[0mfind_gui_and_backend\u001b[0m\u001b[0;34m(\u001b[0m\u001b[0mgui\u001b[0m\u001b[0;34m,\u001b[0m \u001b[0mself\u001b[0m\u001b[0;34m.\u001b[0m\u001b[0mpylab_gui_select\u001b[0m\u001b[0;34m)\u001b[0m\u001b[0;34m\u001b[0m\u001b[0m\n\u001b[0m\u001b[1;32m   3040\u001b[0m \u001b[0;34m\u001b[0m\u001b[0m\n\u001b[1;32m   3041\u001b[0m         \u001b[0;32mif\u001b[0m \u001b[0mgui\u001b[0m \u001b[0;34m!=\u001b[0m \u001b[0;34m'inline'\u001b[0m\u001b[0;34m:\u001b[0m\u001b[0;34m\u001b[0m\u001b[0m\n",
      "\u001b[0;32m~/.local/lib/python3.6/site-packages/IPython/core/pylabtools.py\u001b[0m in \u001b[0;36mfind_gui_and_backend\u001b[0;34m(gui, gui_select)\u001b[0m\n\u001b[1;32m    271\u001b[0m     \"\"\"\n\u001b[1;32m    272\u001b[0m \u001b[0;34m\u001b[0m\u001b[0m\n\u001b[0;32m--> 273\u001b[0;31m     \u001b[0;32mimport\u001b[0m \u001b[0mmatplotlib\u001b[0m\u001b[0;34m\u001b[0m\u001b[0m\n\u001b[0m\u001b[1;32m    274\u001b[0m \u001b[0;34m\u001b[0m\u001b[0m\n\u001b[1;32m    275\u001b[0m     \u001b[0;32mif\u001b[0m \u001b[0mgui\u001b[0m \u001b[0;32mand\u001b[0m \u001b[0mgui\u001b[0m \u001b[0;34m!=\u001b[0m \u001b[0;34m'auto'\u001b[0m\u001b[0;34m:\u001b[0m\u001b[0;34m\u001b[0m\u001b[0m\n",
      "\u001b[0;31mModuleNotFoundError\u001b[0m: No module named 'matplotlib'"
     ]
    }
   ],
   "source": [
    "%matplotlib inline\n",
    "%matplotlib agg\n",
    "\n",
    "import math\n",
    "\n",
    "import numpy as np\n",
    "np.random.seed(0)  # make this notebook reproducible\n",
    "import pandas as pd\n",
    "from sklearn.datasets import load_iris\n",
    "\n",
    "import matplotlib.pyplot as plt"
   ]
  },
  {
   "cell_type": "markdown",
   "metadata": {},
   "source": [
    "## Getting data"
   ]
  },
  {
   "cell_type": "markdown",
   "metadata": {},
   "source": [
    "### Loading iris dataset"
   ]
  },
  {
   "cell_type": "code",
   "execution_count": 219,
   "metadata": {},
   "outputs": [],
   "source": [
    "# load iris\n",
    "iris = load_iris()\n",
    "# np.c_ is the numpy concatenate function\n",
    "# which is used to concat iris['data'] and iris['target'] arrays \n",
    "iris_data = pd.DataFrame(data= np.c_[iris['data'], iris['target']],\n",
    "                         columns= iris['feature_names'] + ['target'])"
   ]
  },
  {
   "cell_type": "code",
   "execution_count": 220,
   "metadata": {},
   "outputs": [
    {
     "name": "stdout",
     "output_type": "stream",
     "text": [
      "150\n"
     ]
    }
   ],
   "source": [
    "print(len(iris_data))"
   ]
  },
  {
   "cell_type": "code",
   "execution_count": 221,
   "metadata": {
    "scrolled": true
   },
   "outputs": [
    {
     "data": {
      "image/png": "[encoded data removed]",
      "text/plain": [
       "<matplotlib.figure.Figure at 0x7fceccd9eb70>"
      ]
     },
     "metadata": {},
     "output_type": "display_data"
    }
   ],
   "source": [
    "iris_data.drop(['target'], axis=1).diff().hist(color='k', alpha=0.5, bins=10, figsize=(4, 5))\n",
    "plt.show()"
   ]
  },
  {
   "cell_type": "markdown",
   "metadata": {},
   "source": [
    "### Generating syntethic dataset"
   ]
  },
  {
   "cell_type": "code",
   "execution_count": 222,
   "metadata": {},
   "outputs": [],
   "source": [
    "SYNT_TRAIN_SIZE = 50\n",
    "\n",
    "def get_random_error(size, mu=0, std_dev=0.8):\n",
    "    return np.random.normal(mu, std_dev, size)\n",
    "\n",
    "# generate the function: 7 * X + 15, it can be a more complicated function, but let's keep it simple for now\n",
    "synt_x = np.random.rand(SYNT_TRAIN_SIZE)\n",
    "synt_y = np.reshape(7 * synt_x + 15 + get_random_error(SYNT_TRAIN_SIZE), (SYNT_TRAIN_SIZE, 1))\n",
    "\n",
    "synt_x = np.reshape(synt_x, (SYNT_TRAIN_SIZE, 1))"
   ]
  },
  {
   "cell_type": "code",
   "execution_count": 223,
   "metadata": {},
   "outputs": [
    {
     "data": {
      "text/plain": [
       "[<matplotlib.lines.Line2D at 0x7fceccd7d4e0>]"
      ]
     },
     "execution_count": 223,
     "metadata": {},
     "output_type": "execute_result"
    },
    {
     "data": {
      "image/png": "[encoded data removed]",
      "text/plain": [
       "<matplotlib.figure.Figure at 0x7fceccca25f8>"
      ]
     },
     "metadata": {},
     "output_type": "display_data"
    }
   ],
   "source": [
    "plt.plot(synt_x, synt_y, 'ro', alpha=0.5)"
   ]
  },
  {
   "cell_type": "markdown",
   "metadata": {},
   "source": [
    "## Implementing a feed forward neural network"
   ]
  },
  {
   "cell_type": "code",
   "execution_count": 298,
   "metadata": {},
   "outputs": [],
   "source": [
    "class NeuralNetwork(object):    \n",
    "    def __init__(self, layers, input_size, act_name=None):\n",
    "        self.input_size = input_size\n",
    "        self.layers = layers\n",
    "        \n",
    "        self.act_name = act_name\n",
    "        self.activation = self.get_act(act_name)\n",
    "        \n",
    "        self.weights, self.biases = self.define_params(self.input_size, self.layers)\n",
    "\n",
    "        \n",
    "    def get_act(self, act_name):\n",
    "        def _sigmoid(x):\n",
    "            return 1 / (1 + np.exp(-x))\n",
    "        def _relu(x):\n",
    "            return x * (x > 0)\n",
    "        if act_name is None:\n",
    "            return None\n",
    "        elif act_name == 'sigmoid':\n",
    "            return _sigmoid\n",
    "        elif act_name == 'relu':\n",
    "            return _relu\n",
    "        else:\n",
    "            raise ValueError('Activation function is not valid: %s' % act_name)\n",
    "        \n",
    "        \n",
    "    def define_params(self, input_size, layers):\n",
    "        weights = []\n",
    "        biases = []\n",
    "        for i, (in_dim, out_dim) in enumerate(zip([input_size] + layers, layers)):\n",
    "            weights.append(np.random.randn(in_dim, out_dim))\n",
    "            biases.append(np.random.randn(out_dim))\n",
    "\n",
    "        return weights, biases\n",
    "\n",
    "\n",
    "    def update_params(self, gradients, learning_rate=0.1):\n",
    "        assert len(gradients) == len(self.weights)\n",
    "        assert len(gradients) == len(self.biases)\n",
    "        \n",
    "        for i, grad in enumerate(gradients):\n",
    "            # assert grad['weights'].shape == self.weights[i].shape\n",
    "            self.weights[i] -= learning_rate * grad['weights']\n",
    "            # assert grad['biases'].shape == self.biases[i].shape\n",
    "            self.biases[i] -= learning_rate * grad['biases']\n",
    "    \n",
    "    def run_batch(self, batch):\n",
    "        output = batch\n",
    "        for w, b in zip(self.weights, self.biases):\n",
    "            output = np.dot(output, w) + b\n",
    "            if self.activation:\n",
    "                output = self.activation(output)\n",
    "        return output"
   ]
  },
  {
   "cell_type": "markdown",
   "metadata": {},
   "source": [
    "### Implementing SGD trainer"
   ]
  },
  {
   "cell_type": "code",
   "execution_count": 334,
   "metadata": {},
   "outputs": [],
   "source": [
    "class Trainer(object):\n",
    "    def __init__(self, model, learning_rate = 0.1, loss_name='l2',\n",
    "                 print_mod=10, verbose=True):\n",
    "        self.model = model\n",
    "        self.loss_name = loss_name\n",
    "        self.learning_rate = learning_rate\n",
    "        self.loss = self.get_loss(self.loss_name)\n",
    "        \n",
    "        self.train_step = 0\n",
    "        self.verbose = verbose\n",
    "        self.print_mod = print_mod\n",
    "        self.losses = []\n",
    "    \n",
    "    \n",
    "    def get_loss(self, loss_name):\n",
    "        def _l2(pred_y, real_y):\n",
    "            input_size = pred_y.shape[0]\n",
    "            return (1/2.0 * input_size) * np.sum(np.power(pred_y - real_y, 2))\n",
    "            \n",
    "        if loss_name == 'l2':\n",
    "            return _l2\n",
    "        else:\n",
    "            raise ValueError('Invalid loss name: %s' % loss_name)\n",
    "\n",
    "\n",
    "    def train(self, batch_x, batch_y):\n",
    "        self.train_step += 1\n",
    "        \n",
    "        # run feed forward network\n",
    "        pred_y = self.model.run_batch(batch_x)\n",
    "        # save loss\n",
    "        self.losses.append(self.loss(pred_y, batch_y))\n",
    "        # get gradients\n",
    "        grads = self.generate_gradients(pred_y, batch_y, batch_x)\n",
    "        # update parameters\n",
    "        self.model.update_params(grads, self.learning_rate)\n",
    "\n",
    "        if self.verbose and (self.train_step - 1) % self.print_mod == 0:\n",
    "            print('Loss: %.4f for step %d' % (self.losses[-1], self.train_step))\n",
    "    \n",
    "    def plot_losses(self):\n",
    "        x = [i for i in range(self.train_step)]\n",
    "        plt.title('Loss: %.4f for step %d' % (self.losses[-1], self.train_step))\n",
    "        plt.plot(x, self.losses)\n",
    "        \n",
    "        \n",
    "    def generate_gradients(self, pred_y, real_y, data_x):\n",
    "        def _l2(pred_y, real_y, data_x):\n",
    "            '''For now just works for 1 hidden layer.'''\n",
    "            def _sigmoid(x):\n",
    "                return 1 / (1 + np.exp(-x))\n",
    "            def _dev_sigmoid(x):\n",
    "                return _sigmoid(x) * (1 - _sigmoid(x))\n",
    "            \n",
    "            grad = []\n",
    "            input_size = pred_y.shape[0]\n",
    "            if self.model.activation is None:\n",
    "                grad.append({\n",
    "                    'weights': -1/input_size * np.sum((real_y - pred_y) * data_x),\n",
    "                    'biases': -1/input_size * np.sum((real_y - pred_y))\n",
    "                })\n",
    "            elif self.model.act_name == 'sigmoid':\n",
    "                # Wrong\n",
    "                grad.append({\n",
    "                    'weights': -1/input_size * np.sum((real_y - pred_y) * _dev_sigmoid(data_x) * data_x),\n",
    "                    'biases': -1/input_size * np.sum((real_y - pred_y) * _dev_sigmoid(data_x))\n",
    "                })\n",
    "            elif self.model.act_name == 'relu':\n",
    "                zero_indexes = np.where(pred_y == 0)[0]\n",
    "                real_y = np.delete(real_y, zero_indexes, axis=0)\n",
    "                pred_y = np.delete(pred_y, zero_indexes, axis=0)\n",
    "                data_x = np.delete(data_x, zero_indexes, axis=0)\n",
    "                grad_weight = -1/input_size * np.sum((real_y - pred_y) * _dev_sigmoid(data_x) * data_x)\n",
    "                grad_bias = -1/input_size * np.sum((real_y - pred_y))\n",
    "                grad.append({\n",
    "                    'weights': grad_weight,\n",
    "                    'biases': grad_bias\n",
    "                })\n",
    "            return grad\n",
    "\n",
    "            \n",
    "        if self.loss_name == 'l2':\n",
    "            return _l2(pred_y, real_y, data_x)"
   ]
  },
  {
   "cell_type": "code",
   "execution_count": 335,
   "metadata": {},
   "outputs": [],
   "source": [
    "nn = NeuralNetwork([1], 1)\n",
    "t = Trainer(nn)"
   ]
  },
  {
   "cell_type": "code",
   "execution_count": 324,
   "metadata": {},
   "outputs": [
    {
     "name": "stdout",
     "output_type": "stream",
     "text": [
      "Loss: 163468.8790 for step 1\n",
      "Loss: 84988.9021 for step 11\n",
      "Loss: 75382.7490 for step 21\n",
      "Loss: 70721.8026 for step 31\n",
      "Loss: 66913.9555 for step 41\n",
      "Loss: 63629.9804 for step 51\n",
      "Loss: 60786.2987 for step 61\n",
      "Loss: 58323.1542 for step 71\n",
      "Loss: 56189.5786 for step 81\n",
      "Loss: 54341.4725 for step 91\n"
     ]
    },
    {
     "data": {
      "image/png": "[encoded data removed]",
      "text/plain": [
       "<matplotlib.figure.Figure at 0x7fcecc67deb8>"
      ]
     },
     "metadata": {},
     "output_type": "display_data"
    }
   ],
   "source": [
    "for i in range(100):\n",
    "    t.train(synt_x, synt_y)\n",
    "\n",
    "t.plot_losses()"
   ]
  },
  {
   "cell_type": "code",
   "execution_count": 325,
   "metadata": {},
   "outputs": [
    {
     "name": "stdout",
     "output_type": "stream",
     "text": [
      "Learned parameters:\n",
      "weights: [array([[14.28076827]])]\n",
      "biases: [array([0.42470735])]\n",
      "Input function: 7 * X + 15\n"
     ]
    },
    {
     "data": {
      "text/plain": [
       "[<matplotlib.lines.Line2D at 0x7fcecc5a3780>,\n",
       " <matplotlib.lines.Line2D at 0x7fcecc5a3908>]"
      ]
     },
     "execution_count": 325,
     "metadata": {},
     "output_type": "execute_result"
    },
    {
     "data": {
      "image/png": "[encoded data removed]",
      "text/plain": [
       "<matplotlib.figure.Figure at 0x7fcecc5e4b38>"
      ]
     },
     "metadata": {},
     "output_type": "display_data"
    }
   ],
   "source": [
    "print('Learned parameters:')\n",
    "print('weights:', nn.weights)\n",
    "print('biases:', nn.biases)\n",
    "print('Input function: 7 * X + 15')\n",
    "plt.plot(synt_x, nn.run_batch(synt_x), 'bo', synt_x, synt_y, 'ro', alpha=0.5)\n"
   ]
  },
  {
   "cell_type": "markdown",
   "metadata": {},
   "source": [
    "### What if the data is not linear?"
   ]
  },
  {
   "cell_type": "code",
   "execution_count": 326,
   "metadata": {},
   "outputs": [],
   "source": [
    "def get_random_error(size, mu=0, std_dev=0.8):\n",
    "    return np.random.normal(mu, std_dev, size)\n",
    "\n",
    "# generate the function: 7 * X + 15, it can be a more complicated function, but let's keep it simple for now\n",
    "synt_x = np.random.rand(SYNT_TRAIN_SIZE)\n",
    "synt_y = np.reshape(7 * np.log(synt_x) + 15 + get_random_error(SYNT_TRAIN_SIZE), (SYNT_TRAIN_SIZE, 1))\n",
    "\n",
    "synt_x = np.reshape(synt_x, (SYNT_TRAIN_SIZE, 1))"
   ]
  },
  {
   "cell_type": "code",
   "execution_count": 327,
   "metadata": {},
   "outputs": [
    {
     "data": {
      "text/plain": [
       "[<matplotlib.lines.Line2D at 0x7fcecc57bd30>]"
      ]
     },
     "execution_count": 327,
     "metadata": {},
     "output_type": "execute_result"
    },
    {
     "data": {
      "image/png": "[encoded data removed]",
      "text/plain": [
       "<matplotlib.figure.Figure at 0x7fcecc5fef28>"
      ]
     },
     "metadata": {},
     "output_type": "display_data"
    }
   ],
   "source": [
    "plt.plot(synt_x, synt_y, 'ro', alpha=0.5)"
   ]
  },
  {
   "cell_type": "code",
   "execution_count": 328,
   "metadata": {},
   "outputs": [],
   "source": [
    "nn = NeuralNetwork([1], 1)\n",
    "t = Trainer(nn)"
   ]
  },
  {
   "cell_type": "code",
   "execution_count": 329,
   "metadata": {},
   "outputs": [
    {
     "name": "stdout",
     "output_type": "stream",
     "text": [
      "Loss: 201287.0654 for step 1\n",
      "Loss: 41981.5931 for step 11\n",
      "Loss: 30870.3244 for step 21\n",
      "Loss: 28815.0922 for step 31\n",
      "Loss: 27434.6321 for step 41\n",
      "Loss: 26212.6828 for step 51\n",
      "Loss: 25107.1309 for step 61\n",
      "Loss: 24105.4168 for step 71\n",
      "Loss: 23197.6989 for step 81\n",
      "Loss: 22375.1517 for step 91\n"
     ]
    },
    {
     "data": {
      "image/png": "[encoded data removed]",
      "text/plain": [
       "<matplotlib.figure.Figure at 0x7fcecc5daa58>"
      ]
     },
     "metadata": {},
     "output_type": "display_data"
    }
   ],
   "source": [
    "for i in range(100):\n",
    "    t.train(synt_x, synt_y)\n",
    "\n",
    "t.plot_losses()"
   ]
  },
  {
   "cell_type": "code",
   "execution_count": 330,
   "metadata": {},
   "outputs": [
    {
     "name": "stdout",
     "output_type": "stream",
     "text": [
      "Learned parameters:\n",
      "weights: [array([[9.82538981]])]\n",
      "biases: [array([4.21399388])]\n",
      "Input function: 7 * log(X) + 15\n"
     ]
    },
    {
     "data": {
      "text/plain": [
       "[<matplotlib.lines.Line2D at 0x7fcecc4cc1d0>,\n",
       " <matplotlib.lines.Line2D at 0x7fcecc4cc358>]"
      ]
     },
     "execution_count": 330,
     "metadata": {},
     "output_type": "execute_result"
    },
    {
     "data": {
      "image/png": "[encoded data removed]",
      "text/plain": [
       "<matplotlib.figure.Figure at 0x7fcecc67d1d0>"
      ]
     },
     "metadata": {},
     "output_type": "display_data"
    }
   ],
   "source": [
    "print('Learned parameters:')\n",
    "print('weights:', nn.weights)\n",
    "print('biases:', nn.biases)\n",
    "print('Input function: 7 * log(X) + 15')\n",
    "plt.plot(synt_x, nn.run_batch(synt_x), 'bo', synt_x, synt_y, 'ro', alpha=0.5)\n"
   ]
  },
  {
   "cell_type": "code",
   "execution_count": 337,
   "metadata": {},
   "outputs": [],
   "source": [
    "nn = NeuralNetwork([1], 1, act_name='relu')\n",
    "t = Trainer(nn)"
   ]
  },
  {
   "cell_type": "code",
   "execution_count": 338,
   "metadata": {},
   "outputs": [
    {
     "name": "stdout",
     "output_type": "stream",
     "text": [
      "Loss: 135947.2612 for step 1\n",
      "Loss: 50500.5584 for step 11\n",
      "Loss: 40943.6230 for step 21\n",
      "Loss: 39376.6174 for step 31\n",
      "Loss: 38667.7227 for step 41\n",
      "Loss: 38064.0890 for step 51\n",
      "Loss: 37484.8672 for step 61\n",
      "Loss: 36920.7624 for step 71\n",
      "Loss: 36370.3430 for step 81\n",
      "Loss: 35833.1222 for step 91\n"
     ]
    },
    {
     "data": {
      "image/png": "[encoded data removed]",
      "text/plain": [
       "<matplotlib.figure.Figure at 0x7fcecab1f2b0>"
      ]
     },
     "metadata": {},
     "output_type": "display_data"
    }
   ],
   "source": [
    "for i in range(100):\n",
    "    t.train(synt_x, synt_y)\n",
    "\n",
    "t.plot_losses()"
   ]
  },
  {
   "cell_type": "code",
   "execution_count": 339,
   "metadata": {},
   "outputs": [
    {
     "name": "stdout",
     "output_type": "stream",
     "text": [
      "Learned parameters:\n",
      "weights: [array([[3.12774166]])]\n",
      "biases: [array([7.70309994])]\n",
      "Input function: 7 * log(X) + 15\n"
     ]
    },
    {
     "data": {
      "text/plain": [
       "[<matplotlib.lines.Line2D at 0x7fcecab487f0>,\n",
       " <matplotlib.lines.Line2D at 0x7fcecaadd550>]"
      ]
     },
     "execution_count": 339,
     "metadata": {},
     "output_type": "execute_result"
    },
    {
     "data": {
      "image/png": "[encoded data removed]",
      "text/plain": [
       "<matplotlib.figure.Figure at 0x7fcecc45a940>"
      ]
     },
     "metadata": {},
     "output_type": "display_data"
    }
   ],
   "source": [
    "print('Learned parameters:')\n",
    "print('weights:', nn.weights)\n",
    "print('biases:', nn.biases)\n",
    "print('Input function: 7 * log(X) + 15')\n",
    "plt.plot(synt_x, nn.run_batch(synt_x), 'bo', synt_x, synt_y, 'ro', alpha=0.5)\n"
   ]
  },
  {
   "cell_type": "code",
   "execution_count": null,
   "metadata": {},
   "outputs": [],
   "source": []
  },
  {
   "cell_type": "code",
   "execution_count": null,
   "metadata": {},
   "outputs": [],
   "source": []
  }
 ],
 "metadata": {
  "kernelspec": {
   "display_name": "Python 3",
   "language": "python",
   "name": "python3"
  },
  "language_info": {
   "codemirror_mode": {
    "name": "ipython",
    "version": 3
   },
   "file_extension": ".py",
   "mimetype": "text/x-python",
   "name": "python",
   "nbconvert_exporter": "python",
   "pygments_lexer": "ipython3",
   "version": "3.6.5"
  }
 },
 "nbformat": 4,
 "nbformat_minor": 2
}
