{
 "cells": [
  {
   "cell_type": "markdown",
   "metadata": {},
   "source": [
    "# Aprendendo Deep Learning\n",
    "\n",
    "**Autores:** Marianne Linhares<br>\n",
    "**Data:** Set, 2018 <br>\n",
    "**Código:** [github.com/mari-linhares/deep-python-scratch](github.com/mari-linhares/deep-python-scratch)\n",
    "\n",
    "![Cover](http://houseofbots.com/images/news/3194/cover.png) <br>"
   ]
  },
  {
   "cell_type": "markdown",
   "metadata": {},
   "source": [
    "## Resumo do curso\n",
    "\n",
    "Vários expecialistas na área defendem a ideia de que a melhor forma de aprender Deep Learning é **na prática**. Isto é, na medida que vamos sendo expostos a novos conceitos implementá-los nos mínimos detalhes para de fato entende-los.\n",
    "\n",
    "A verdade é que... ter acesso ao ensino de Deep Learning se tornou extremamente fácil, agora a dúvida é outra: \"por onde devo seguir? livros? vídeos? artigos? frameworks?\". Aprender um conceito de maneira profunda (tun dun tisss) ainda é difícil e uma tarefa que exige rigor e disciplina. Esse site busca facilitar sua tragetória, indicando sugestões de materiais, atividades, papers, vídeos para cada assunto apresentado.\n",
    "\n",
    "[Quer apenas materiais?]()\n",
    "[Quer ir direto ao código?]()\n",
    "\n",
    "\n",
    "### Redução de dimensionalidade\n",
    "\n",
    "* [PCA (Principal Components analysis).](analysis/sgd-and-variations.html)\n",
    "\n",
    "### Aprendizado\n",
    "\n",
    "* [Backpropagation](analysis/backpropagation.html)\n",
    "* [SGD (Stochastic Gradient Descent).](analysis/sgd.html)"
   ]
  }
 ],
 "metadata": {
  "kernelspec": {
   "display_name": "Python (myenv)",
   "language": "python",
   "name": "myenv"
  },
  "language_info": {
   "codemirror_mode": {
    "name": "ipython",
    "version": 3
   },
   "file_extension": ".py",
   "mimetype": "text/x-python",
   "name": "python",
   "nbconvert_exporter": "python",
   "pygments_lexer": "ipython3",
   "version": "3.6.6"
  }
 },
 "nbformat": 4,
 "nbformat_minor": 2
}
