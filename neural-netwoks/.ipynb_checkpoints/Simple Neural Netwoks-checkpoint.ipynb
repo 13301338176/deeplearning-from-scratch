{
 "cells": [
  {
   "cell_type": "markdown",
   "metadata": {},
   "source": [
    "## Simple Neural Networks\n",
    "\n",
    "This content is heavily inspired by the [Chapter 3](https://github.com/iamtrask/Grokking-Deep-Learning) of the Grokking Deep Learning."
   ]
  },
  {
   "cell_type": "markdown",
   "metadata": {},
   "source": [
    "Neural networks can be seen mainly as compicated functions.\n",
    "\n",
    "As functions they reiceve an input, make some computation and give something as outputs. \n",
    "\n",
    "\n",
    "For Deep Learning these inputs and outputs are mainly tensors, which are basically vectors of arbitrary dimensions and shapes. And the computations involve multiplying inputs by tensors and applying some activation function."
   ]
  },
  {
   "cell_type": "code",
   "execution_count": null,
   "metadata": {},
   "outputs": [],
   "source": [
    "class MyFirstNeuralNetwork(object):\n",
    "    \n",
    "    def __init__(self, weights=0.5):\n",
    "        self._weights = weigths\n",
    "    \n",
    "    def function(self, _input):\n",
    "        return self._activation_function(_input * self._weights)\n",
    "    \n",
    "    def _activation_function(self, data):\n",
    "        return data"
   ]
  },
  {
   "cell_type": "code",
   "execution_count": null,
   "metadata": {},
   "outputs": [],
   "source": []
  }
 ],
 "metadata": {
  "kernelspec": {
   "display_name": "Python (myenv)",
   "language": "python",
   "name": "myenv"
  },
  "language_info": {
   "codemirror_mode": {
    "name": "ipython",
    "version": 3
   },
   "file_extension": ".py",
   "mimetype": "text/x-python",
   "name": "python",
   "nbconvert_exporter": "python",
   "pygments_lexer": "ipython3",
   "version": "3.6.5"
  }
 },
 "nbformat": 4,
 "nbformat_minor": 2
}
